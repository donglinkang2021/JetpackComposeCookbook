{
 "cells": [
  {
   "cell_type": "code",
   "execution_count": 15,
   "metadata": {},
   "outputs": [],
   "source": [
    "# Encoding: UTF-8\n",
    "# Path: prompt.ipynb\n",
    "\n",
    "target = '人工智能'"
   ]
  },
  {
   "cell_type": "code",
   "execution_count": 16,
   "metadata": {},
   "outputs": [],
   "source": [
    "demand = '''我目前使用的开发环境是Android Studio，使用的开发语言是kotlin，python，java，\n",
    "我希望能够用一周的时间使用把huggingface上的有趣AI模型部署到android手机上去，\n",
    "写出一个{target}app'''.format(target=target)"
   ]
  },
  {
   "cell_type": "code",
   "execution_count": 17,
   "metadata": {},
   "outputs": [
    {
     "name": "stdout",
     "output_type": "stream",
     "text": [
      "\n",
      "你是一位jetpack compose方面的专家，规划项目的架构，设计项目的UI，编写项目的代码是你的专长。\n",
      "\n",
      "下面是我的需求：\n",
      "我目前使用的开发环境是Android Studio，使用的开发语言是kotlin，python，java，\n",
      "我希望能够用一周的时间使用把huggingface上的有趣AI模型部署到android手机上去，\n",
      "写出一个人工智能app\n",
      "\n",
      "请你为我写一个需求文档，包括：\n",
      "\n",
      "- 这个app的功能应该是什么，有哪些页面\n",
      "- 每个页面的功能是什么\n",
      "- 每个页面的UI是什么样子\n",
      "- 每个页面的代码是什么样子\n",
      "- 需要哪些技术\n",
      "- 每个页面需要花费多少时间\n",
      "\n",
      "请你为我写一个开发文档，包括：\n",
      "\n",
      "- 开发流程（一周时间，应该先做什么，后做什么）\n",
      "- 写一个简单的demo，包括一个页面的功能，UI，代码（请给出代码）\n",
      "- 讲这个demo部署到android手机上去\n",
      "- 测试这个demo\n",
      "\n",
      "请使用markdown格式编写。\n",
      "\n",
      "\n"
     ]
    }
   ],
   "source": [
    "prompt ='''\n",
    "你是一位jetpack compose方面的专家，规划项目的架构，设计项目的UI，编写项目的代码是你的专长。\n",
    "\n",
    "下面是我的需求：\n",
    "{demand}\n",
    "\n",
    "请你为我写一个需求文档，包括：\n",
    "\n",
    "- 这个app的功能应该是什么，有哪些页面\n",
    "- 每个页面的功能是什么\n",
    "- 每个页面的UI是什么样子\n",
    "- 每个页面的代码是什么样子\n",
    "- 需要哪些技术\n",
    "- 每个页面需要花费多少时间\n",
    "\n",
    "请你为我写一个开发文档，包括：\n",
    "\n",
    "- 开发流程（一周时间，应该先做什么，后做什么）\n",
    "- 写一个简单的demo，包括一个页面的功能，UI，代码（请给出代码）\n",
    "- 讲这个demo部署到android手机上去\n",
    "- 测试这个demo\n",
    "\n",
    "请使用markdown格式编写。\n",
    "\n",
    "'''.format(demand=demand)\n",
    "\n",
    "print(prompt)"
   ]
  },
  {
   "cell_type": "code",
   "execution_count": 18,
   "metadata": {},
   "outputs": [],
   "source": [
    "# 输出到output.txt\n",
    "with open('output.txt', 'w') as f:\n",
    "    f.write(prompt)"
   ]
  },
  {
   "cell_type": "code",
   "execution_count": null,
   "metadata": {},
   "outputs": [],
   "source": []
  }
 ],
 "metadata": {
  "kernelspec": {
   "display_name": "base",
   "language": "python",
   "name": "python3"
  },
  "language_info": {
   "codemirror_mode": {
    "name": "ipython",
    "version": 3
   },
   "file_extension": ".py",
   "mimetype": "text/x-python",
   "name": "python",
   "nbconvert_exporter": "python",
   "pygments_lexer": "ipython3",
   "version": "3.9.7"
  },
  "orig_nbformat": 4
 },
 "nbformat": 4,
 "nbformat_minor": 2
}
